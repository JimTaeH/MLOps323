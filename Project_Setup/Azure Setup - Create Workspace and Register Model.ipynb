{
 "cells": [
  {
   "cell_type": "markdown",
   "id": "d50a8857",
   "metadata": {},
   "source": [
    "# Create Workspace and using it"
   ]
  },
  {
   "cell_type": "code",
   "execution_count": 1,
   "id": "9dbfccdd",
   "metadata": {},
   "outputs": [],
   "source": [
    "from azureml.core import Workspace"
   ]
  },
  {
   "cell_type": "markdown",
   "id": "a4738a74",
   "metadata": {},
   "source": [
    "สร้าง Workspace และ Resource Group สำหรับ Azure Machine Learning"
   ]
  },
  {
   "cell_type": "code",
   "execution_count": null,
   "id": "7389072b",
   "metadata": {},
   "outputs": [],
   "source": [
    "# ws = Workspace.create(name='mlops323',\n",
    "#                subscription_id='4d2f3913-dee7-4d67-beb2-25988eb4fc81',\n",
    "#                resource_group='dsi323',\n",
    "#                create_resource_group=True,\n",
    "#                location='eastus2'\n",
    "#                )"
   ]
  },
  {
   "cell_type": "code",
   "execution_count": null,
   "id": "da9ef4db",
   "metadata": {},
   "outputs": [],
   "source": [
    "# from azureml.core import Workspace\n",
    "# ws = Workspace(subscription_id=\"4d2f3913-dee7-4d67-beb2-25988eb4fc81\",\n",
    "#                resource_group=\"dsi323\",\n",
    "#                workspace_name=\"mlops323\")"
   ]
  },
  {
   "cell_type": "markdown",
   "id": "65d09f35",
   "metadata": {},
   "source": [
    "# Register Model"
   ]
  },
  {
   "cell_type": "code",
   "execution_count": 2,
   "id": "eba47595",
   "metadata": {},
   "outputs": [],
   "source": [
    "from azureml.core.model import Model"
   ]
  },
  {
   "cell_type": "code",
   "execution_count": null,
   "id": "9b82c628",
   "metadata": {},
   "outputs": [],
   "source": [
    "# model = Model.register(ws, model_name=\"CNNs3CPD1\", model_path=\"./CNNs3CPD\")"
   ]
  }
 ],
 "metadata": {
  "kernelspec": {
   "display_name": "mlops323",
   "language": "python",
   "name": "mlops323"
  },
  "language_info": {
   "codemirror_mode": {
    "name": "ipython",
    "version": 3
   },
   "file_extension": ".py",
   "mimetype": "text/x-python",
   "name": "python",
   "nbconvert_exporter": "python",
   "pygments_lexer": "ipython3",
   "version": "3.7.6"
  }
 },
 "nbformat": 4,
 "nbformat_minor": 5
}
