{
 "cells": [
  {
   "cell_type": "markdown",
   "id": "d50a8857",
   "metadata": {},
   "source": [
    "# Create Workspace and using it"
   ]
  },
  {
   "cell_type": "code",
   "execution_count": 1,
   "id": "9dbfccdd",
   "metadata": {},
   "outputs": [],
   "source": [
    "from azureml.core import Workspace"
   ]
  },
  {
   "cell_type": "markdown",
   "id": "a4738a74",
   "metadata": {},
   "source": [
    "สร้าง Workspace และ Resource Group สำหรับ Azure Machine Learning"
   ]
  },
  {
   "cell_type": "code",
   "execution_count": null,
   "id": "7389072b",
   "metadata": {},
   "outputs": [],
   "source": [
    "# ws = Workspace.create(name='mlops323',\n",
    "#                subscription_id='4d2f3913-dee7-4d67-beb2-25988eb4fc81',\n",
    "#                resource_group='dsi323',\n",
    "#                create_resource_group=True,\n",
    "#                location='eastus2'\n",
    "#                )"
   ]
  },
  {
   "cell_type": "code",
   "execution_count": 2,
   "id": "da9ef4db",
   "metadata": {},
   "outputs": [],
   "source": [
    "from azureml.core import Workspace\n",
    "ws = Workspace(subscription_id=\"4d2f3913-dee7-4d67-beb2-25988eb4fc81\",\n",
    "               resource_group=\"dsi323\",\n",
    "               workspace_name=\"mlops323\")"
   ]
  },
  {
   "cell_type": "markdown",
   "id": "65d09f35",
   "metadata": {},
   "source": [
    "# Register Model"
   ]
  },
  {
   "cell_type": "code",
   "execution_count": 3,
   "id": "eba47595",
   "metadata": {},
   "outputs": [],
   "source": [
    "from azureml.core.model import Model"
   ]
  },
  {
   "cell_type": "code",
   "execution_count": 14,
   "id": "9b82c628",
   "metadata": {},
   "outputs": [
    {
     "name": "stdout",
     "output_type": "stream",
     "text": [
      "Registering model CNNsBaseline\n"
     ]
    }
   ],
   "source": [
    "model = Model.register(ws, model_name=\"CNNsBaseline\", model_path=r\"C:/MLOps323/CNNs_Model/CNNsBaseline\")"
   ]
  },
  {
   "cell_type": "code",
   "execution_count": 4,
   "id": "f9377c35",
   "metadata": {},
   "outputs": [
    {
     "name": "stdout",
     "output_type": "stream",
     "text": [
      "Registering model SDGClf\n"
     ]
    }
   ],
   "source": [
    "model = Model.register(ws, model_name=\"SDGClf\", model_path=r\"C:/ML_Models/sgdclfv2.pkl\")"
   ]
  },
  {
   "cell_type": "code",
   "execution_count": 5,
   "id": "f9f8e6c7",
   "metadata": {},
   "outputs": [
    {
     "name": "stdout",
     "output_type": "stream",
     "text": [
      "Registering model Pipeline\n"
     ]
    }
   ],
   "source": [
    "model = Model.register(ws, model_name=\"Pipeline\", model_path=r\"C:/ML_Models/pipelinefit.pkl\")"
   ]
  },
  {
   "cell_type": "code",
   "execution_count": 3,
   "id": "86095aa0",
   "metadata": {},
   "outputs": [
    {
     "name": "stdout",
     "output_type": "stream",
     "text": [
      "Registering model RandomForestV1\n"
     ]
    }
   ],
   "source": [
    "model = Model.register(ws, model_name=\"RandomForestV1\", model_path=r\"C:/ML_Models/RFClf.pkl\")"
   ]
  },
  {
   "cell_type": "code",
   "execution_count": 4,
   "id": "36b655d2",
   "metadata": {},
   "outputs": [
    {
     "name": "stdout",
     "output_type": "stream",
     "text": [
      "Registering model SGDclf\n"
     ]
    }
   ],
   "source": [
    "model = Model.register(ws, model_name=\"SGDclf\", model_path=r\"C:/ML_Models/sgdclfv1.pkl\")"
   ]
  },
  {
   "cell_type": "code",
   "execution_count": null,
   "id": "38c95f34",
   "metadata": {},
   "outputs": [],
   "source": []
  }
 ],
 "metadata": {
  "kernelspec": {
   "display_name": "mlops323",
   "language": "python",
   "name": "mlops323"
  },
  "language_info": {
   "codemirror_mode": {
    "name": "ipython",
    "version": 3
   },
   "file_extension": ".py",
   "mimetype": "text/x-python",
   "name": "python",
   "nbconvert_exporter": "python",
   "pygments_lexer": "ipython3",
   "version": "3.7.6"
  }
 },
 "nbformat": 4,
 "nbformat_minor": 5
}
